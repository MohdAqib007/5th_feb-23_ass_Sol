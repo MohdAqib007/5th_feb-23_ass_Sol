{
 "cells": [
  {
   "cell_type": "code",
   "execution_count": 1,
   "id": "a1204877-a3fa-432c-9373-85a4e9d3ad40",
   "metadata": {},
   "outputs": [
    {
     "name": "stdout",
     "output_type": "stream",
     "text": [
      "Engine started\n",
      "Engine stopped\n"
     ]
    },
    {
     "data": {
      "text/plain": [
       "'In this example, we have created an object of the Car class and called its methods to start and stop the engine. \\nThe object has its own unique set of values for the make, model, and year properties, which were set when the object was created. \\nThis demonstrates the relationship between classes and objects in OOP.'"
      ]
     },
     "execution_count": 1,
     "metadata": {},
     "output_type": "execute_result"
    }
   ],
   "source": [
    "#Q1. Explain Class and Object with respect to Object-Oriented Programming. Give a suitable example.\n",
    "#Ans\n",
    "'''In Object-Oriented Programming (OOP), a class is a blueprint or template for creating objects. \n",
    "It defines the properties and methods that the objects will have, but it does not actually create any objects itself. \n",
    "An object, on the other hand, is an instance of a class. \n",
    "It is created from the class blueprint and has its own unique set of values for the properties defined in the class.\n",
    "\n",
    "Let's consider an example of a class and object. Suppose we want to model a car in our program. \n",
    "We could create a Car class that has properties such as make, model, and year, as well as methods such as start_engine() and stop_engine(). \n",
    "Here is an example of what the Car class might look like in Python:'''\n",
    "\n",
    "class Car:\n",
    "    def __init__(self, make, model, year):\n",
    "        self.make = make\n",
    "        self.model = model\n",
    "        self.year = year\n",
    "    \n",
    "    def start_engine(self):\n",
    "        print(\"Engine started\")\n",
    "    \n",
    "    def stop_engine(self):\n",
    "        print(\"Engine stopped\")\n",
    "\n",
    "'''In this example, the Car class has three properties (make, model, and year) and two methods (start_engine() and stop_engine()). \n",
    "The init() method is a special method that is called when a new object is created from the class. \n",
    "It initializes the object's properties with the values passed in as arguments.\n",
    "To create an object of the Car class, we would use the following syntax'''\n",
    "\n",
    "my_car = Car(\"Toyota\", \"Camry\", 2020)\n",
    "\n",
    "'''This creates a new object of the Car class with the make \"Toyota\", model \"Camry\", and year 2020. We can then call the methods on this object, like so:'''\n",
    "\n",
    "my_car.start_engine()  # prints \"Engine started\"\n",
    "my_car.stop_engine()   # prints \"Engine stopped\"\n",
    "\n",
    "'''In this example, we have created an object of the Car class and called its methods to start and stop the engine. \n",
    "The object has its own unique set of values for the make, model, and year properties, which were set when the object was created. \n",
    "This demonstrates the relationship between classes and objects in OOP.'''"
   ]
  },
  {
   "cell_type": "code",
   "execution_count": 2,
   "id": "80c18c25-b428-405c-afab-d35b256d95fc",
   "metadata": {},
   "outputs": [
    {
     "data": {
      "text/plain": [
       "'The four pillars of Object-Oriented Programming (OOP) are:\\n\\n1. Encapsulation: Encapsulation refers to the practice of combining data and methods that act on that data within a single unit, known as a class. \\nThis technique is used to hide the complexity of the underlying implementation and provide a simpler interface for interacting with the class.\\n\\n2. Abstraction: Abstraction refers to the process of identifying the essential characteristics of an object or system and ignoring the details that are irrelevant to its behavior. \\nAbstraction enables programmers to create simplified models of complex systems, making it easier to reason about and manipulate them.\\n\\n3. Inheritance: Inheritance is a mechanism that enables a class to inherit properties and behavior from a parent class. \\nThis allows for the creation of new classes that extend or modify the behavior of existing classes, reducing code duplication and promoting code reuse.\\n\\n4. Polymorphism: Polymorphism refers to the ability of objects to take on multiple forms or behave in different ways depending on the context in which they are used. \\nPolymorphism is typically achieved through the use of inheritance, interfaces, and overloading or overriding methods.'"
      ]
     },
     "execution_count": 2,
     "metadata": {},
     "output_type": "execute_result"
    }
   ],
   "source": [
    "#Q.2 Name the four pillars of OOPs.\n",
    "#Ans\n",
    "'''The four pillars of Object-Oriented Programming (OOP) are:\n",
    "\n",
    "1. Encapsulation: Encapsulation refers to the practice of combining data and methods that act on that data within a single unit, known as a class. \n",
    "This technique is used to hide the complexity of the underlying implementation and provide a simpler interface for interacting with the class.\n",
    "\n",
    "2. Abstraction: Abstraction refers to the process of identifying the essential characteristics of an object or system and ignoring the details that are irrelevant to its behavior. \n",
    "Abstraction enables programmers to create simplified models of complex systems, making it easier to reason about and manipulate them.\n",
    "\n",
    "3. Inheritance: Inheritance is a mechanism that enables a class to inherit properties and behavior from a parent class. \n",
    "This allows for the creation of new classes that extend or modify the behavior of existing classes, reducing code duplication and promoting code reuse.\n",
    "\n",
    "4. Polymorphism: Polymorphism refers to the ability of objects to take on multiple forms or behave in different ways depending on the context in which they are used. \n",
    "Polymorphism is typically achieved through the use of inheritance, interfaces, and overloading or overriding methods.'''"
   ]
  },
  {
   "cell_type": "code",
   "execution_count": 3,
   "id": "85d5b413-52f5-4bc5-968a-1909964b026b",
   "metadata": {},
   "outputs": [
    {
     "name": "stdout",
     "output_type": "stream",
     "text": [
      "Hello, my name is Alice and I am 25 years old.\n"
     ]
    },
    {
     "data": {
      "text/plain": [
       "\"The init() method is called automatically when the Person object is created, and initializes the object's properties with the values passed in as arguments. \\nThis allows us to create multiple Person objects with different names and ages, while still ensuring that they all have the same properties and values when they are created.\""
      ]
     },
     "execution_count": 3,
     "metadata": {},
     "output_type": "execute_result"
    }
   ],
   "source": [
    "#Q3. Explain why the __init__() function is used. Give a suitable example.\n",
    "#Ans-\n",
    "'''In Object-Oriented Programming (OOP), the init() function is a special method that is used to initialize the properties of a newly created object. \n",
    "It is called automatically when an object is created from a class, and is used to set the initial values of the object's properties.\n",
    "\n",
    "The init() method is often used to ensure that every object of a class has the same properties and values when it is created. \n",
    "It also allows us to pass arguments to the class constructor and use them to initialize the object's properties.\n",
    "\n",
    "Here's an example of how the init() method works in Python'''\n",
    "\n",
    "class Person:\n",
    "    def __init__(self, name, age):\n",
    "        self.name = name\n",
    "        self.age = age\n",
    "    \n",
    "    def say_hello(self):\n",
    "        print(\"Hello, my name is\", self.name, \"and I am\", self.age, \"years old.\")\n",
    "\n",
    "'''In this example, we define a Person class with two properties: name and age. \n",
    "The init() method takes two arguments, name and age, and uses them to initialize the object's properties.\n",
    "\n",
    "To create a new Person object, we can use the following code:'''\n",
    "\n",
    "person1 = Person(\"Alice\", 25)\n",
    "\n",
    "'''This creates a new Person object with the name \"Alice\" and age 25. \n",
    "We can then call the say_hello() method on this object, like so:'''\n",
    "\n",
    "person1.say_hello() # prints \"Hello, my name is Alice and I am 25 years old.\"\n",
    "\n",
    "\n",
    "'''The init() method is called automatically when the Person object is created, and initializes the object's properties with the values passed in as arguments. \n",
    "This allows us to create multiple Person objects with different names and ages, while still ensuring that they all have the same properties and values when they are created.'''"
   ]
  },
  {
   "cell_type": "code",
   "execution_count": null,
   "id": "5db02d38-6841-4ae6-b4a9-c51630e90c53",
   "metadata": {},
   "outputs": [],
   "source": [
    "#Q4. Why self is used in OOPs?\n",
    "#Ans-\n",
    "'''In Object-Oriented Programming (OOP) in Python, the self parameter is used to refer to the instance of a class that a method is associated with. \n",
    "It is a reference to the current object, and is used to access its properties and methods.\n",
    "\n",
    "When a method is called on an object, Python automatically passes a reference to that object as the first argument to the method. \n",
    "By convention, this parameter is named self, although it can be named anything you like. \n",
    "The self parameter allows the method to access the properties and methods of the object it is associated with.'''"
   ]
  },
  {
   "cell_type": "code",
   "execution_count": 10,
   "id": "e84043ce-c2e4-464c-9ea2-a5b7b6f59196",
   "metadata": {},
   "outputs": [],
   "source": [
    "#Q5. What is inheritance? Give an example for each type of inheritance.\n",
    "#Ans-\n",
    "'''Inheritance is a way to create new classes that are based on existing classes. \n",
    "When a new class is created using inheritance, it automatically gets all the properties and methods of the existing class, which is called the \"parent\" or \"super\" class.\n",
    "This makes it easy to create new classes that share some or all of the functionality of an existing class, without having to write all the code from scratch.\n",
    "\n",
    "There are three types of inheritance in Python:\n",
    "\n",
    "1. Single inheritance: When a new class is created by inheriting from a single existing class.\n",
    "\n",
    "2. Multiple inheritance: When a new class is created by inheriting from two or more existing classes.\n",
    "\n",
    "3. Multi-level inheritance: When a new class is created by inheriting from a class that itself inherits from another class.\n",
    "\n",
    "Each type of inheritance has its own benefits and use cases, and can be used to create complex class hierarchies with different levels of functionality.'''\n"
   ]
  },
  {
   "cell_type": "code",
   "execution_count": null,
   "id": "0f642a68-3187-4f73-98a9-d0efd44d04a9",
   "metadata": {},
   "outputs": [],
   "source": []
  }
 ],
 "metadata": {
  "kernelspec": {
   "display_name": "Python 3 (ipykernel)",
   "language": "python",
   "name": "python3"
  },
  "language_info": {
   "codemirror_mode": {
    "name": "ipython",
    "version": 3
   },
   "file_extension": ".py",
   "mimetype": "text/x-python",
   "name": "python",
   "nbconvert_exporter": "python",
   "pygments_lexer": "ipython3",
   "version": "3.10.8"
  }
 },
 "nbformat": 4,
 "nbformat_minor": 5
}
